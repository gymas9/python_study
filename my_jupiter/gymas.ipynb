{
 "cells": [
  {
   "cell_type": "code",
   "execution_count": 6,
   "id": "3756d86e",
   "metadata": {},
   "outputs": [
    {
     "name": "stdout",
     "output_type": "stream",
     "text": [
      "안녕하세요\n",
      "안녕하세요?\n",
      "\"안녕하세요?\"\n"
     ]
    }
   ],
   "source": [
    "print(\"안녕하세요\")\n",
    "print('안녕하세요?')\n",
    "print('\"안녕하세요?\"')"
   ]
  },
  {
   "cell_type": "code",
   "execution_count": 4,
   "id": "ac7b3212",
   "metadata": {},
   "outputs": [
    {
     "name": "stdout",
     "output_type": "stream",
     "text": [
      "10 20 30\n"
     ]
    }
   ],
   "source": [
    "a=10\n",
    "b=20\n",
    "c=30\n",
    "print(a,b,c)"
   ]
  },
  {
   "cell_type": "code",
   "execution_count": 9,
   "id": "7d59a7f2",
   "metadata": {},
   "outputs": [
    {
     "name": "stdout",
     "output_type": "stream",
     "text": [
      "4.140000000000001\n",
      "<class 'int'>\n",
      "3.14\n",
      "<class 'float'>\n"
     ]
    }
   ],
   "source": [
    "pi=3.14\n",
    "a=1\n",
    "print(pi+a)\n",
    "print(type(a))\n",
    "a=3.14\n",
    "print(a)\n",
    "print(type(a))"
   ]
  },
  {
   "cell_type": "code",
   "execution_count": 12,
   "id": "12282fbf",
   "metadata": {},
   "outputs": [
    {
     "name": "stdout",
     "output_type": "stream",
     "text": [
      "현재의 세율은  35.0 %입니다\n"
     ]
    }
   ],
   "source": [
    "TAX_RATE=0.35\n",
    "tax=1000*TAX_RATE\n",
    "income=1000-tax\n",
    "print(\"현재의 세율은 \",TAX_RATE*100,\"%입니다\")"
   ]
  },
  {
   "cell_type": "code",
   "execution_count": null,
   "id": "d3e2ee6d",
   "metadata": {},
   "outputs": [],
   "source": []
  }
 ],
 "metadata": {
  "kernelspec": {
   "display_name": "my_venv",
   "language": "python",
   "name": "python3"
  },
  "language_info": {
   "codemirror_mode": {
    "name": "ipython",
    "version": 3
   },
   "file_extension": ".py",
   "mimetype": "text/x-python",
   "name": "python",
   "nbconvert_exporter": "python",
   "pygments_lexer": "ipython3",
   "version": "3.12.5"
  }
 },
 "nbformat": 4,
 "nbformat_minor": 5
}
